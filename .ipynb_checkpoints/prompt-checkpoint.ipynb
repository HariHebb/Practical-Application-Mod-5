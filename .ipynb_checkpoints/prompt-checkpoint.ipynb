{
 "cells": [
  {
   "cell_type": "markdown",
   "metadata": {
    "id": "CcUT6Fon_qRE"
   },
   "source": [
    "### Required Assignment 5.1: Will the Customer Accept the Coupon?\n",
    "\n",
    "**Context**\n",
    "\n",
    "Imagine driving through town and a coupon is delivered to your cell phone for a restaurant near where you are driving. Would you accept that coupon and take a short detour to the restaurant? Would you accept the coupon but use it on a subsequent trip? Would you ignore the coupon entirely? What if the coupon was for a bar instead of a restaurant? What about a coffee house? Would you accept a bar coupon with a minor passenger in the car? What about if it was just you and your partner in the car? Would weather impact the rate of acceptance? What about the time of day?\n",
    "\n",
    "Obviously, proximity to the business is a factor on whether the coupon is delivered to the driver or not, but what are the factors that determine whether a driver accepts the coupon once it is delivered to them? How would you determine whether a driver is likely to accept a coupon?\n",
    "\n",
    "**Overview**\n",
    "\n",
    "The goal of this project is to use what you know about visualizations and probability distributions to distinguish between customers who accepted a driving coupon versus those that did not.\n",
    "\n",
    "**Data**\n",
    "\n",
    "This data comes to us from the UCI Machine Learning repository and was collected via a survey on Amazon Mechanical Turk. The survey describes different driving scenarios including the destination, current time, weather, passenger, etc., and then ask the person whether he will accept the coupon if he is the driver. Answers that the user will drive there ‘right away’ or ‘later before the coupon expires’ are labeled as ‘Y = 1’ and answers ‘no, I do not want the coupon’ are labeled as ‘Y = 0’.  There are five different types of coupons -- less expensive restaurants (under \\$20), coffee houses, carry out & take away, bar, and more expensive restaurants (\\$20 - $50)."
   ]
  },
  {
   "cell_type": "markdown",
   "metadata": {
    "id": "1wORvMBJ_qRF"
   },
   "source": [
    "**Deliverables**\n",
    "\n",
    "Your final product should be a brief report that highlights the differences between customers who did and did not accept the coupons.  To explore the data you will utilize your knowledge of plotting, statistical summaries, and visualization using Python. You will publish your findings in a public facing github repository as your first portfolio piece.\n",
    "\n",
    "\n",
    "\n"
   ]
  },
  {
   "cell_type": "markdown",
   "metadata": {
    "id": "pG6_Ym6q_qRG"
   },
   "source": [
    "### Data Description\n",
    "Keep in mind that these values mentioned below are average values.\n",
    "\n",
    "The attributes of this data set include:\n",
    "1. User attributes\n",
    "    -  Gender: male, female\n",
    "    -  Age: below 21, 21 to 25, 26 to 30, etc.\n",
    "    -  Marital Status: single, married partner, unmarried partner, or widowed\n",
    "    -  Number of children: 0, 1, or more than 1\n",
    "    -  Education: high school, bachelors degree, associates degree, or graduate degree\n",
    "    -  Occupation: architecture & engineering, business & financial, etc.\n",
    "    -  Annual income: less than \\\\$12500, \\\\$12500 - \\\\$24999, \\\\$25000 - \\\\$37499, etc.\n",
    "    -  Number of times that he/she goes to a bar: 0, less than 1, 1 to 3, 4 to 8 or greater than 8\n",
    "    -  Number of times that he/she buys takeaway food: 0, less than 1, 1 to 3, 4 to 8 or greater\n",
    "    than 8\n",
    "    -  Number of times that he/she goes to a coffee house: 0, less than 1, 1 to 3, 4 to 8 or\n",
    "    greater than 8\n",
    "    -  Number of times that he/she eats at a restaurant with average expense less than \\\\$20 per\n",
    "    person: 0, less than 1, 1 to 3, 4 to 8 or greater than 8\n",
    "    -  Number of times that he/she goes to a bar: 0, less than 1, 1 to 3, 4 to 8 or greater than 8\n",
    "    \n",
    "\n",
    "2. Contextual attributes\n",
    "    - Driving destination: home, work, or no urgent destination\n",
    "    - Location of user, coupon and destination: we provide a map to show the geographical\n",
    "    location of the user, destination, and the venue, and we mark the distance between each\n",
    "    two places with time of driving. The user can see whether the venue is in the same\n",
    "    direction as the destination.\n",
    "    - Weather: sunny, rainy, or snowy\n",
    "    - Temperature: 30F, 55F, or 80F\n",
    "    - Time: 10AM, 2PM, or 6PM\n",
    "    - Passenger: alone, partner, kid(s), or friend(s)\n",
    "\n",
    "\n",
    "3. Coupon attributes\n",
    "    - time before it expires: 2 hours or one day"
   ]
  },
  {
   "cell_type": "code",
   "execution_count": 354,
   "metadata": {
    "id": "dzNoP3o__qRG"
   },
   "outputs": [],
   "source": [
    "import matplotlib.pyplot as plt\n",
    "import seaborn as sns\n",
    "import pandas as pd\n",
    "import numpy as np"
   ]
  },
  {
   "cell_type": "markdown",
   "metadata": {
    "id": "Ct8pI1uE_qRG"
   },
   "source": [
    "### Problems\n",
    "\n",
    "Use the prompts below to get started with your data analysis.  \n",
    "\n",
    "1. Read in the `coupons.csv` file.\n",
    "\n",
    "\n"
   ]
  },
  {
   "cell_type": "code",
   "execution_count": 355,
   "metadata": {
    "id": "X0vbffYg_qRH"
   },
   "outputs": [],
   "source": [
    "data = pd.read_csv('data/coupons.csv')"
   ]
  },
  {
   "cell_type": "markdown",
   "metadata": {},
   "source": [
    "# DataFrame Shape\n",
    "The data frame in consideration has 12684 rows and 26 columns based on the initial observations from the shape method"
   ]
  },
  {
   "cell_type": "code",
   "execution_count": 356,
   "metadata": {
    "id": "TXofQ_DF_qRH",
    "outputId": "2fc96a2c-1112-4b54-f24f-dbb9bc88abfb"
   },
   "outputs": [
    {
     "data": {
      "text/plain": [
       "(12684, 26)"
      ]
     },
     "execution_count": 356,
     "metadata": {},
     "output_type": "execute_result"
    }
   ],
   "source": [
    "data.head(5)\n",
    "#print(data['coupon'].unique())\n",
    "data.shape\n",
    "# The data frame in consideration has 12684 rows and 26 columns"
   ]
  },
  {
   "cell_type": "markdown",
   "metadata": {},
   "source": [
    "# Describe DataFrame\n",
    "Leveraging the describe method one can get the mean, standard deviations, count for different numerical columns that comprise the data set. \n",
    "Most of the numerical columns are logical booleans which could well have been True or False values. E.g: has_children"
   ]
  },
  {
   "cell_type": "code",
   "execution_count": 357,
   "metadata": {},
   "outputs": [
    {
     "data": {
      "text/html": [
       "<div>\n",
       "<style scoped>\n",
       "    .dataframe tbody tr th:only-of-type {\n",
       "        vertical-align: middle;\n",
       "    }\n",
       "\n",
       "    .dataframe tbody tr th {\n",
       "        vertical-align: top;\n",
       "    }\n",
       "\n",
       "    .dataframe thead th {\n",
       "        text-align: right;\n",
       "    }\n",
       "</style>\n",
       "<table border=\"1\" class=\"dataframe\">\n",
       "  <thead>\n",
       "    <tr style=\"text-align: right;\">\n",
       "      <th></th>\n",
       "      <th>temperature</th>\n",
       "      <th>has_children</th>\n",
       "      <th>toCoupon_GEQ5min</th>\n",
       "      <th>toCoupon_GEQ15min</th>\n",
       "      <th>toCoupon_GEQ25min</th>\n",
       "      <th>direction_same</th>\n",
       "      <th>direction_opp</th>\n",
       "      <th>Y</th>\n",
       "    </tr>\n",
       "  </thead>\n",
       "  <tbody>\n",
       "    <tr>\n",
       "      <th>count</th>\n",
       "      <td>12684.000000</td>\n",
       "      <td>12684.000000</td>\n",
       "      <td>12684.0</td>\n",
       "      <td>12684.000000</td>\n",
       "      <td>12684.000000</td>\n",
       "      <td>12684.000000</td>\n",
       "      <td>12684.000000</td>\n",
       "      <td>12684.000000</td>\n",
       "    </tr>\n",
       "    <tr>\n",
       "      <th>mean</th>\n",
       "      <td>63.301798</td>\n",
       "      <td>0.414144</td>\n",
       "      <td>1.0</td>\n",
       "      <td>0.561495</td>\n",
       "      <td>0.119126</td>\n",
       "      <td>0.214759</td>\n",
       "      <td>0.785241</td>\n",
       "      <td>0.568433</td>\n",
       "    </tr>\n",
       "    <tr>\n",
       "      <th>std</th>\n",
       "      <td>19.154486</td>\n",
       "      <td>0.492593</td>\n",
       "      <td>0.0</td>\n",
       "      <td>0.496224</td>\n",
       "      <td>0.323950</td>\n",
       "      <td>0.410671</td>\n",
       "      <td>0.410671</td>\n",
       "      <td>0.495314</td>\n",
       "    </tr>\n",
       "    <tr>\n",
       "      <th>min</th>\n",
       "      <td>30.000000</td>\n",
       "      <td>0.000000</td>\n",
       "      <td>1.0</td>\n",
       "      <td>0.000000</td>\n",
       "      <td>0.000000</td>\n",
       "      <td>0.000000</td>\n",
       "      <td>0.000000</td>\n",
       "      <td>0.000000</td>\n",
       "    </tr>\n",
       "    <tr>\n",
       "      <th>10%</th>\n",
       "      <td>30.000000</td>\n",
       "      <td>0.000000</td>\n",
       "      <td>1.0</td>\n",
       "      <td>0.000000</td>\n",
       "      <td>0.000000</td>\n",
       "      <td>0.000000</td>\n",
       "      <td>0.000000</td>\n",
       "      <td>0.000000</td>\n",
       "    </tr>\n",
       "    <tr>\n",
       "      <th>25%</th>\n",
       "      <td>55.000000</td>\n",
       "      <td>0.000000</td>\n",
       "      <td>1.0</td>\n",
       "      <td>0.000000</td>\n",
       "      <td>0.000000</td>\n",
       "      <td>0.000000</td>\n",
       "      <td>1.000000</td>\n",
       "      <td>0.000000</td>\n",
       "    </tr>\n",
       "    <tr>\n",
       "      <th>50%</th>\n",
       "      <td>80.000000</td>\n",
       "      <td>0.000000</td>\n",
       "      <td>1.0</td>\n",
       "      <td>1.000000</td>\n",
       "      <td>0.000000</td>\n",
       "      <td>0.000000</td>\n",
       "      <td>1.000000</td>\n",
       "      <td>1.000000</td>\n",
       "    </tr>\n",
       "    <tr>\n",
       "      <th>75%</th>\n",
       "      <td>80.000000</td>\n",
       "      <td>1.000000</td>\n",
       "      <td>1.0</td>\n",
       "      <td>1.000000</td>\n",
       "      <td>0.000000</td>\n",
       "      <td>0.000000</td>\n",
       "      <td>1.000000</td>\n",
       "      <td>1.000000</td>\n",
       "    </tr>\n",
       "    <tr>\n",
       "      <th>80%</th>\n",
       "      <td>80.000000</td>\n",
       "      <td>1.000000</td>\n",
       "      <td>1.0</td>\n",
       "      <td>1.000000</td>\n",
       "      <td>0.000000</td>\n",
       "      <td>1.000000</td>\n",
       "      <td>1.000000</td>\n",
       "      <td>1.000000</td>\n",
       "    </tr>\n",
       "    <tr>\n",
       "      <th>90%</th>\n",
       "      <td>80.000000</td>\n",
       "      <td>1.000000</td>\n",
       "      <td>1.0</td>\n",
       "      <td>1.000000</td>\n",
       "      <td>1.000000</td>\n",
       "      <td>1.000000</td>\n",
       "      <td>1.000000</td>\n",
       "      <td>1.000000</td>\n",
       "    </tr>\n",
       "    <tr>\n",
       "      <th>95%</th>\n",
       "      <td>80.000000</td>\n",
       "      <td>1.000000</td>\n",
       "      <td>1.0</td>\n",
       "      <td>1.000000</td>\n",
       "      <td>1.000000</td>\n",
       "      <td>1.000000</td>\n",
       "      <td>1.000000</td>\n",
       "      <td>1.000000</td>\n",
       "    </tr>\n",
       "    <tr>\n",
       "      <th>max</th>\n",
       "      <td>80.000000</td>\n",
       "      <td>1.000000</td>\n",
       "      <td>1.0</td>\n",
       "      <td>1.000000</td>\n",
       "      <td>1.000000</td>\n",
       "      <td>1.000000</td>\n",
       "      <td>1.000000</td>\n",
       "      <td>1.000000</td>\n",
       "    </tr>\n",
       "  </tbody>\n",
       "</table>\n",
       "</div>"
      ],
      "text/plain": [
       "        temperature  has_children  toCoupon_GEQ5min  toCoupon_GEQ15min  \\\n",
       "count  12684.000000  12684.000000           12684.0       12684.000000   \n",
       "mean      63.301798      0.414144               1.0           0.561495   \n",
       "std       19.154486      0.492593               0.0           0.496224   \n",
       "min       30.000000      0.000000               1.0           0.000000   \n",
       "10%       30.000000      0.000000               1.0           0.000000   \n",
       "25%       55.000000      0.000000               1.0           0.000000   \n",
       "50%       80.000000      0.000000               1.0           1.000000   \n",
       "75%       80.000000      1.000000               1.0           1.000000   \n",
       "80%       80.000000      1.000000               1.0           1.000000   \n",
       "90%       80.000000      1.000000               1.0           1.000000   \n",
       "95%       80.000000      1.000000               1.0           1.000000   \n",
       "max       80.000000      1.000000               1.0           1.000000   \n",
       "\n",
       "       toCoupon_GEQ25min  direction_same  direction_opp             Y  \n",
       "count       12684.000000    12684.000000   12684.000000  12684.000000  \n",
       "mean            0.119126        0.214759       0.785241      0.568433  \n",
       "std             0.323950        0.410671       0.410671      0.495314  \n",
       "min             0.000000        0.000000       0.000000      0.000000  \n",
       "10%             0.000000        0.000000       0.000000      0.000000  \n",
       "25%             0.000000        0.000000       1.000000      0.000000  \n",
       "50%             0.000000        0.000000       1.000000      1.000000  \n",
       "75%             0.000000        0.000000       1.000000      1.000000  \n",
       "80%             0.000000        1.000000       1.000000      1.000000  \n",
       "90%             1.000000        1.000000       1.000000      1.000000  \n",
       "95%             1.000000        1.000000       1.000000      1.000000  \n",
       "max             1.000000        1.000000       1.000000      1.000000  "
      ]
     },
     "execution_count": 357,
     "metadata": {},
     "output_type": "execute_result"
    }
   ],
   "source": [
    "data.describe([0.1,0.25,0.5,0.75,0.8,0.90,0.95])"
   ]
  },
  {
   "cell_type": "markdown",
   "metadata": {},
   "source": [
    "# DataFrame Information\n",
    "By running the info() method one can infer that there are ton of notional string and numerical values which have been represented as objects. e.g.: Destination, passangar and weather all could be string columns.\n",
    "In a similar vein 'Income' could be a float value"
   ]
  },
  {
   "cell_type": "code",
   "execution_count": 358,
   "metadata": {},
   "outputs": [
    {
     "name": "stdout",
     "output_type": "stream",
     "text": [
      "<class 'pandas.core.frame.DataFrame'>\n",
      "RangeIndex: 12684 entries, 0 to 12683\n",
      "Data columns (total 26 columns):\n",
      " #   Column                Non-Null Count  Dtype \n",
      "---  ------                --------------  ----- \n",
      " 0   destination           12684 non-null  object\n",
      " 1   passanger             12684 non-null  object\n",
      " 2   weather               12684 non-null  object\n",
      " 3   temperature           12684 non-null  int64 \n",
      " 4   time                  12684 non-null  object\n",
      " 5   coupon                12684 non-null  object\n",
      " 6   expiration            12684 non-null  object\n",
      " 7   gender                12684 non-null  object\n",
      " 8   age                   12684 non-null  object\n",
      " 9   maritalStatus         12684 non-null  object\n",
      " 10  has_children          12684 non-null  int64 \n",
      " 11  education             12684 non-null  object\n",
      " 12  occupation            12684 non-null  object\n",
      " 13  income                12684 non-null  object\n",
      " 14  car                   108 non-null    object\n",
      " 15  Bar                   12577 non-null  object\n",
      " 16  CoffeeHouse           12467 non-null  object\n",
      " 17  CarryAway             12533 non-null  object\n",
      " 18  RestaurantLessThan20  12554 non-null  object\n",
      " 19  Restaurant20To50      12495 non-null  object\n",
      " 20  toCoupon_GEQ5min      12684 non-null  int64 \n",
      " 21  toCoupon_GEQ15min     12684 non-null  int64 \n",
      " 22  toCoupon_GEQ25min     12684 non-null  int64 \n",
      " 23  direction_same        12684 non-null  int64 \n",
      " 24  direction_opp         12684 non-null  int64 \n",
      " 25  Y                     12684 non-null  int64 \n",
      "dtypes: int64(8), object(18)\n",
      "memory usage: 2.5+ MB\n"
     ]
    }
   ],
   "source": [
    "data.info()"
   ]
  },
  {
   "cell_type": "markdown",
   "metadata": {
    "id": "GcDs78ZH_qRH"
   },
   "source": [
    "2. Investigate the dataset for missing or problematic data."
   ]
  },
  {
   "cell_type": "markdown",
   "metadata": {},
   "source": [
    "# Null Check\n",
    "Observed that the column 'car' has 12576 null values , where as columns Bar, CoffeeHouse, CarryAway, rRestaurantLessThan20, 20to50 have a null values for around 100-150 columns. The car column is not very useful as majority of the rows have this column value as NULL"
   ]
  },
  {
   "cell_type": "code",
   "execution_count": 359,
   "metadata": {
    "id": "6CwL6oWj_qRH"
   },
   "outputs": [
    {
     "data": {
      "text/plain": [
       "destination                 0\n",
       "passanger                   0\n",
       "weather                     0\n",
       "temperature                 0\n",
       "time                        0\n",
       "coupon                      0\n",
       "expiration                  0\n",
       "gender                      0\n",
       "age                         0\n",
       "maritalStatus               0\n",
       "has_children                0\n",
       "education                   0\n",
       "occupation                  0\n",
       "income                      0\n",
       "car                     12576\n",
       "Bar                       107\n",
       "CoffeeHouse               217\n",
       "CarryAway                 151\n",
       "RestaurantLessThan20      130\n",
       "Restaurant20To50          189\n",
       "toCoupon_GEQ5min            0\n",
       "toCoupon_GEQ15min           0\n",
       "toCoupon_GEQ25min           0\n",
       "direction_same              0\n",
       "direction_opp               0\n",
       "Y                           0\n",
       "dtype: int64"
      ]
     },
     "execution_count": 359,
     "metadata": {},
     "output_type": "execute_result"
    }
   ],
   "source": [
    "#Describe the numerical attributes in the dataset\n",
    "#Check for Null Values in the field\n",
    "data.isna().sum()"
   ]
  },
  {
   "cell_type": "markdown",
   "metadata": {
    "id": "bSdVSpYB_qRH"
   },
   "source": [
    "3. Decide what to do about your missing data -- drop, replace, other..."
   ]
  },
  {
   "cell_type": "markdown",
   "metadata": {},
   "source": [
    "# Drop Redundant Column(s)\n",
    "Drop columns like 'car' which has majority null rows and is not very useful as it stands"
   ]
  },
  {
   "cell_type": "code",
   "execution_count": 214,
   "metadata": {
    "id": "tyvoAC5F_qRI"
   },
   "outputs": [
    {
     "data": {
      "text/plain": [
       "destination               0\n",
       "passanger                 0\n",
       "weather                   0\n",
       "temperature               0\n",
       "time                      0\n",
       "coupon                    0\n",
       "expiration                0\n",
       "gender                    0\n",
       "age                       0\n",
       "maritalStatus             0\n",
       "has_children              0\n",
       "education                 0\n",
       "occupation                0\n",
       "income                    0\n",
       "Bar                     107\n",
       "CoffeeHouse             217\n",
       "CarryAway               151\n",
       "RestaurantLessThan20    130\n",
       "Restaurant20To50        189\n",
       "toCoupon_GEQ5min          0\n",
       "toCoupon_GEQ15min         0\n",
       "toCoupon_GEQ25min         0\n",
       "direction_same            0\n",
       "direction_opp             0\n",
       "Y                         0\n",
       "dtype: int64"
      ]
     },
     "execution_count": 214,
     "metadata": {},
     "output_type": "execute_result"
    }
   ],
   "source": [
    "#data['Bar'].value_counts()\n",
    "data_cleansed=data.drop(columns=['car'])\n",
    "data_cleansed.isna().sum()"
   ]
  },
  {
   "cell_type": "markdown",
   "metadata": {},
   "source": [
    "# Replace with most frequent value\n",
    "For the rest of the columns which have  few null values, fill the null columns with the most frequently occuring value for that column using value_count() and idxmax() functions in conjunction. Validate that the isna().sum() returns 0 for all the columns after this exercise"
   ]
  },
  {
   "cell_type": "code",
   "execution_count": 360,
   "metadata": {},
   "outputs": [
    {
     "name": "stdout",
     "output_type": "stream",
     "text": [
      "less1\n",
      "never\n",
      "1~3\n",
      "1~3\n",
      "Value Count\n",
      "<class 'str'>\n"
     ]
    },
    {
     "data": {
      "text/plain": [
       "destination              0\n",
       "passanger                0\n",
       "weather                  0\n",
       "temperature              0\n",
       "time                     0\n",
       "coupon                   0\n",
       "expiration               0\n",
       "gender                   0\n",
       "age                      0\n",
       "maritalStatus            0\n",
       "has_children             0\n",
       "education                0\n",
       "occupation               0\n",
       "income                   0\n",
       "Bar                      0\n",
       "CoffeeHouse              0\n",
       "CarryAway                0\n",
       "RestaurantLessThan20     0\n",
       "Restaurant20To50         0\n",
       "toCoupon_GEQ5min         0\n",
       "toCoupon_GEQ15min        0\n",
       "toCoupon_GEQ25min        0\n",
       "direction_same           0\n",
       "direction_opp            0\n",
       "Y                        0\n",
       "expiration_common_uom    0\n",
       "dtype: int64"
      ]
     },
     "execution_count": 360,
     "metadata": {},
     "output_type": "execute_result"
    }
   ],
   "source": [
    "mostProbableCoffeHouseVals=data_cleansed['CoffeeHouse'].value_counts().idxmax()\n",
    "print(uniqueCoffeHouseVals)\n",
    "data_cleansed['CoffeeHouse']=data_cleansed['CoffeeHouse'].fillna(mostProbableCoffeHouseVals)\n",
    "mostProabableBarVals=data_cleansed['Bar'].value_counts().idxmax()\n",
    "print(mostProabableBarVals)\n",
    "data_cleansed['Bar']=data_cleansed['Bar'].fillna(mostProabableBarVals)\n",
    "mostProbablerestaurantLT20=data_cleansed['RestaurantLessThan20'].value_counts().idxmax()\n",
    "print(mostProbablerestaurantLT20)\n",
    "data_cleansed['RestaurantLessThan20']=data_cleansed['RestaurantLessThan20'].fillna(mostProbablerestaurantLT20)\n",
    "mostProabableCarryAway=data_cleansed['CarryAway'].value_counts().idxmax()\n",
    "print(mostProabableCarryAway)\n",
    "data_cleansed['CarryAway']=data_cleansed['CarryAway'].fillna(mostProabableCarryAway)\n",
    "print(\"Value Count\")\n",
    "print(type(data_cleansed['Restaurant20To50'].value_counts().idxmax()))\n",
    "data_cleansed['Restaurant20To50']=data_cleansed['Restaurant20To50'].value_counts().idxmax()\n",
    "data_cleansed.isna().sum()\n"
   ]
  },
  {
   "cell_type": "markdown",
   "metadata": {},
   "source": [
    "# Unify Unit Of Measure for the column expiration\n",
    "The unit of measure mentioned for expiration has different Unit of Measure like 'd'( day) and 'h'( hour) . leveraging the knowledge we are better of converting the same to one common Unit of Measure"
   ]
  },
  {
   "cell_type": "code",
   "execution_count": 361,
   "metadata": {},
   "outputs": [
    {
     "name": "stdout",
     "output_type": "stream",
     "text": [
      "0        24.0\n",
      "1         2.0\n",
      "2         2.0\n",
      "3         2.0\n",
      "4        24.0\n",
      "         ... \n",
      "12679    24.0\n",
      "12680    24.0\n",
      "12681    24.0\n",
      "12682    24.0\n",
      "12683     2.0\n",
      "Name: expiration_common_uom, Length: 12684, dtype: float64\n"
     ]
    }
   ],
   "source": [
    "# shows unique values of 1d and 2h. Converting the 1d to 24 hours \n",
    "#data_cleansed['expiration'].unique()\n",
    "# Convert to a common UOM hours using the function . 1 day =24 hours\n",
    "def convertToCommonUOM(expiration):\n",
    "    if (\"d\" in expiration):\n",
    "        val=float(expiration.replace(\"d\",\"\"))*24\n",
    "        return val\n",
    "    elif (\"h\" in expiration):\n",
    "        val=float(expiration.replace(\"h\",\"\"))\n",
    "        return val\n",
    "# Convert object to string and leverage apply method to invoke the function defined above. Add a new column to the cleansed data set\n",
    "data_cleansed['expiration_common_uom']= data_cleansed['expiration'].astype(str).apply(convertToCommonUOM)\n",
    "print( data_cleansed['expiration_common_uom'])"
   ]
  },
  {
   "cell_type": "markdown",
   "metadata": {
    "id": "YE6oJbXd_qRI"
   },
   "source": [
    "4. What proportion of the total observations chose to accept the coupon?\n",
    "\n"
   ]
  },
  {
   "cell_type": "code",
   "execution_count": 362,
   "metadata": {
    "id": "86GGqBTv_qRI"
   },
   "outputs": [
    {
     "name": "stdout",
     "output_type": "stream",
     "text": [
      "Accepted Coupon ratio is 0.5684326710816777\n",
      "Accepted Coupon Percentage is 56.84326710816777\n"
     ]
    }
   ],
   "source": [
    "percentAcceptedCoupons=data_cleansed.query('Y==1')[\"Y\"].count()/data_cleansed[\"Y\"].count()\n",
    "print(\"Accepted Coupon ratio is {}\".format(percentAcceptedCoupons))\n",
    "print(\"Accepted Coupon Percentage is {}\".format(percentAcceptedCoupons*100))"
   ]
  },
  {
   "cell_type": "markdown",
   "metadata": {},
   "source": [
    "Around 56.84% of the coupons were accepted out of the total observation set shared"
   ]
  },
  {
   "cell_type": "markdown",
   "metadata": {
    "id": "vflz0DoE_qRI"
   },
   "source": [
    "5. Use a bar plot to visualize the `coupon` column."
   ]
  },
  {
   "cell_type": "code",
   "execution_count": 363,
   "metadata": {
    "id": "dHFh3E45_qRI"
   },
   "outputs": [
    {
     "data": {
      "image/png": "[encoded data removed]",
      "text/plain": [
       "<Figure size 640x480 with 1 Axes>"
      ]
     },
     "metadata": {},
     "output_type": "display_data"
    }
   ],
   "source": [
    "#sns.countplot(data=data_cleansed,x=\"coupon\")\n",
    "# Get the count of coupons by coupon type using value_count() function. This will give a series of counts grouped by column 'coupon'\n",
    "data_count_by_coupon=data_cleansed[\"coupon\"].value_counts()\n",
    "#type(data_count_by_coupon)\n",
    "#Use the plot() method to plot the series by mentioning kind=\"bar\"\n",
    "data_count_by_coupon.plot(kind=\"bar\")\n",
    "plt.xlabel(\"Coupon\")\n",
    "plt.ylabel(\"Count\")\n",
    "plt.title(\"Bar Graph: Count of coupons by coupon type\")\n",
    "plt.show()\n",
    "\n"
   ]
  },
  {
   "cell_type": "markdown",
   "metadata": {},
   "source": [
    "The coffee house coupon appears the most in the observation and the high end restaurants appears the least."
   ]
  },
  {
   "cell_type": "markdown",
   "metadata": {
    "id": "Qw4lCyx2_qRI"
   },
   "source": [
    "6. Use a histogram to visualize the temperature column."
   ]
  },
  {
   "cell_type": "code",
   "execution_count": 364,
   "metadata": {
    "id": "Yg9Anv71_qRI"
   },
   "outputs": [
    {
     "data": {
      "image/png": "[encoded data removed]",
      "text/plain": [
       "<Figure size 640x480 with 1 Axes>"
      ]
     },
     "metadata": {},
     "output_type": "display_data"
    }
   ],
   "source": [
    "sns.histplot(data=data_cleansed,x=\"temperature\")\n",
    "plt.xlabel(\"Temperature\")\n",
    "plt.ylabel(\"Count\")\n",
    "plt.title(\"Histogram for Temperature Column\")\n",
    "plt.show()\n",
    "# Verify what I see in a histogram\n",
    "#data_cleansed[\"temperature\"].value_counts()"
   ]
  },
  {
   "cell_type": "markdown",
   "metadata": {},
   "source": [
    "There are just 3 values for temperature in the observation data set and is not following a normal distribution"
   ]
  },
  {
   "cell_type": "code",
   "execution_count": null,
   "metadata": {
    "id": "7GBHZKBp_qRJ"
   },
   "outputs": [],
   "source": []
  },
  {
   "cell_type": "code",
   "execution_count": null,
   "metadata": {
    "id": "Y5nBUA-j_qRJ"
   },
   "outputs": [],
   "source": []
  },
  {
   "cell_type": "code",
   "execution_count": null,
   "metadata": {
    "id": "ShcUC-Vm_qRJ"
   },
   "outputs": [],
   "source": []
  },
  {
   "cell_type": "markdown",
   "metadata": {
    "id": "FupfgeJk_qRJ"
   },
   "source": [
    "**Investigating the Bar Coupons**\n",
    "\n",
    "Now, we will lead you through an exploration of just the bar related coupons.  \n",
    "\n",
    "1. Create a new `DataFrame` that contains just the bar coupons.\n"
   ]
  },
  {
   "cell_type": "code",
   "execution_count": 194,
   "metadata": {
    "id": "tMBlWuGq_qRJ"
   },
   "outputs": [
    {
     "name": "stdout",
     "output_type": "stream",
     "text": [
      "(2017, 26)\n"
     ]
    }
   ],
   "source": [
    "data_cleansed_bar_only=data_cleansed.query('coupon==\"Bar\"')\n",
    "#print(data_cleansed_bar_only.shape)"
   ]
  },
  {
   "cell_type": "markdown",
   "metadata": {},
   "source": [
    "There are 2017 observations where coupon for Bar has been offered"
   ]
  },
  {
   "cell_type": "markdown",
   "metadata": {
    "id": "8ue6uCqf_qRJ"
   },
   "source": [
    "2. What proportion of bar coupons were accepted?\n"
   ]
  },
  {
   "cell_type": "code",
   "execution_count": 195,
   "metadata": {
    "id": "hSdte8Mi_qRK"
   },
   "outputs": [
    {
     "name": "stdout",
     "output_type": "stream",
     "text": [
      "0.41001487357461575\n"
     ]
    }
   ],
   "source": [
    "accepted_bar_coupon_percent=data_cleansed_bar_only.query(\"Y==1\")[\"Y\"].count()/data_cleansed_bar_only[\"Y\"].count()\n",
    "print(accepted_bar_coupon_percent)"
   ]
  },
  {
   "cell_type": "markdown",
   "metadata": {},
   "source": [
    "~ 41% of the bar coupons are accepted "
   ]
  },
  {
   "cell_type": "code",
   "execution_count": 365,
   "metadata": {},
   "outputs": [],
   "source": [
    "# Repeated this so many times , thought I will reuse  this via a function\n",
    "def determineAcceptanceRatio(inputdf):\n",
    "    #print (type(inputdf))\n",
    "    #print(inputdf.columns)\n",
    "    val=inputdf.query(\"Y==1\")[\"Y\"].shape[0]/inputdf[\"Y\"].shape[0]\n",
    "    return val\n",
    "   \n",
    "    \n"
   ]
  },
  {
   "cell_type": "markdown",
   "metadata": {
    "id": "85nA_iEi_qRK"
   },
   "source": [
    "3. Compare the acceptance rate between those who went to a bar 3 or fewer times a month to those who went more.\n"
   ]
  },
  {
   "cell_type": "code",
   "execution_count": 366,
   "metadata": {
    "id": "LBOrN-XM_qRK"
   },
   "outputs": [
    {
     "name": "stdout",
     "output_type": "stream",
     "text": [
      "0.37073707370737075\n",
      "0.7688442211055276\n"
     ]
    }
   ],
   "source": [
    "#data_cleansed_bar_only['Bar'].value_counts()\n",
    "# Please note that I replaced 107 null values for the Bar Column with the most frequently repeated value from the original dataframe\n",
    "#  Values to be considered modelled in a list\n",
    "values_less_thaneq3=[\"never\",\"less1\",\"1~3\"]\n",
    "values_greater_than3=[\"4~8\",\"gt8\"]\n",
    "#Filter relevant data using the isin clause againt the lists defined above\n",
    "data_cleansed_rare_bar_vistor=data_cleansed_bar_only[data_cleansed_bar_only['Bar'].isin(values_less_thaneq3)]\n",
    "data_cleansed_freq_bar_vistor=data_cleansed_bar_only[data_cleansed_bar_only['Bar'].isin(values_greater_than3)]\n",
    "# Invoke the function to get the acceptance rate for the bar coupons meeting the criteria\n",
    "acceptance_rate_normal=determineAcceptanceRatio(data_cleansed_rare_bar_vistor)\n",
    "acceptance_rate_frequent=determineAcceptanceRatio(data_cleansed_freq_bar_vistor)\n",
    "print(acceptance_rate_normal)\n",
    "print(acceptance_rate_frequent)\n",
    "\n",
    "\n"
   ]
  },
  {
   "cell_type": "markdown",
   "metadata": {},
   "source": [
    "The acceptance ratio for bar coupons by those who frequented bar more than 3 times a month is ~double the number of acceptances \n",
    "from those who did not frequent the bar as much"
   ]
  },
  {
   "cell_type": "markdown",
   "metadata": {
    "id": "RBgcQwH4_qRK"
   },
   "source": [
    "4. Compare the acceptance rate between drivers who go to a bar more than once a month and are over the age of 25 to the all others.  Is there a difference?\n"
   ]
  },
  {
   "cell_type": "code",
   "execution_count": 367,
   "metadata": {
    "id": "bf28bbeX_qRK"
   },
   "outputs": [
    {
     "name": "stdout",
     "output_type": "stream",
     "text": [
      "0.6952380952380952\n",
      "0.33500313087038197\n"
     ]
    }
   ],
   "source": [
    "# Model lists for values to be included or excluded\n",
    "bar_freq_filter=[\"1~3\",\"4~8\",\"gt8\"]\n",
    "age_filter=[\"21\",\"below21\"]\n",
    "# ~ for simulating the NOT operation. Model conditions \n",
    "age_condition=~(data_cleansed_bar_only['age'].isin(age_filter))\n",
    "bar_freq_condition=(data_cleansed_bar_only['Bar'].isin(bar_freq_filter))\n",
    "# Apply conditions on the data frame\n",
    "data_bar_age25plus_freq=data_cleansed_bar_only[ age_condition & bar_freq_condition]\n",
    "# Invoke function to determine the acceptance ratio\n",
    "filter_criteria_ratio=determineAcceptanceRatio(data_bar_age25plus_freq)\n",
    "print(filter_criteria_ratio)\n",
    "rest_of_the_rows=data_cleansed_bar_only[~(age_condition & bar_freq_condition)]\n",
    "rest_of_the_rows_ratio=determineAcceptanceRatio(rest_of_the_rows)\n",
    "print(rest_of_the_rows_ratio)\n",
    "\n",
    "\n",
    "\n"
   ]
  },
  {
   "cell_type": "markdown",
   "metadata": {},
   "source": [
    "The number of drivers who are over 25 and frequent the bar over once a month are ~ twice as likely to accept a bar coupon , with respect to the\n",
    "rest of the cohort who have been offered bar coupon"
   ]
  },
  {
   "cell_type": "markdown",
   "metadata": {
    "id": "S4RKT4PJ_qRK"
   },
   "source": [
    "5. Use the same process to compare the acceptance rate between drivers who go to bars more than once a month and had passengers that were not a kid and had occupations other than farming, fishing, or forestry.\n"
   ]
  },
  {
   "cell_type": "code",
   "execution_count": 369,
   "metadata": {
    "id": "sENaI2Tg_qRK"
   },
   "outputs": [
    {
     "name": "stdout",
     "output_type": "stream",
     "text": [
      "0.7132486388384754\n",
      "0.296043656207367\n"
     ]
    }
   ],
   "source": [
    "# comments are in similar vein as above. Lists, Conditions, Apply Condition to Dataframe and calculate acceptance via function\n",
    "occupation_list=[\"farming\",\"fishing\",\"forestry\"]\n",
    "bar_freq_filter=[\"1~3\",\"4~8\",\"gt8\"]\n",
    "passangar_condition=~(data_cleansed_bar_only['passanger']==\"Kid(s)\")\n",
    "occupation_condition=~(data_cleansed_bar_only['occupation'].isin(occupation_list))\n",
    "bar_freq_condition=(data_cleansed_bar_only['Bar'].isin(bar_freq_filter))\n",
    "data_cleanse_barfreq_occupation_psnger_filter= data_cleansed_bar_only[ passangar_condition & occupation_condition & bar_freq_condition]\n",
    "print(determineAcceptanceRatio(data_cleanse_barfreq_occupation_psnger_filter))\n",
    "rest_of_the_rows_filter1=data_cleansed_bar_only[~(passangar_condition & occupation_condition & bar_freq_condition)]\n",
    "rest_of_the_rows_ratio=determineAcceptanceRatio(rest_of_the_rows_filter1)\n",
    "print(rest_of_the_rows_ratio)\n"
   ]
  },
  {
   "cell_type": "markdown",
   "metadata": {},
   "source": [
    "Over 70% of the cohort who frequent bars more than once a month, travelling without kids and having an occupation that is not farming, fishing or forestry accept a Bar Coupon when they are offered the same . This is much higher than the rest of the cohorts  who have around 29% acceptance"
   ]
  },
  {
   "cell_type": "markdown",
   "metadata": {
    "id": "n2LIUTil_qRK"
   },
   "source": [
    "6. Compare the acceptance rates between those drivers who:\n",
    "\n",
    "- go to bars more than once a month, had passengers that were not a kid, and were not widowed *OR*\n",
    "- go to bars more than once a month and are under the age of 30 *OR*\n",
    "- go to cheap restaurants more than 4 times a month and income is less than 50K.\n",
    "\n"
   ]
  },
  {
   "cell_type": "code",
   "execution_count": 370,
   "metadata": {
    "id": "aK_wEzx7_qRK"
   },
   "outputs": [
    {
     "name": "stdout",
     "output_type": "stream",
     "text": [
      "The ratio of acceptance with all Conditions together 0.5889175257731959\n",
      "The ratio of acceptance with only first condition satisfied 0.7132486388384754\n",
      "The ratio of acceptance with only second condition satisfied 0.7217391304347827\n",
      "The ratio of acceptance with only third condition satisfied 0.45348837209302323\n"
     ]
    }
   ],
   "source": [
    "# Model conditions mentioned above in variables\n",
    "passangar_condition=~(data_cleansed_bar_only['passanger']==\"Kid(s)\")\n",
    "bar_freq_filter=[\"1~3\",\"4~8\",\"gt8\"]\n",
    "age_30below=['21','26','below21']\n",
    "income_less_than_50k=['$25000 - $37499','$12500 - $24999','$37500 - $49999','Less than $12500']\n",
    "passangar_no_kid_condition=~(data_cleansed_bar_only['passanger']==\"Kid(s)\")\n",
    "bar_freq_condition=(data_cleansed_bar_only['Bar'].isin(bar_freq_filter))\n",
    "marital_status_notwd_condition=~(data_cleansed_bar_only['maritalStatus']==\"Widowed\")\n",
    "age_30below_condition=(data_cleansed_bar_only['age'].isin(age_30below))\n",
    "cheap_restaurant_condition=data_cleansed_bar_only['RestaurantLessThan20'].isin([\"4~8\",\"gt8\"])\n",
    "less_than_50k_income_condition=data_cleansed_bar_only['income'].isin(income_less_than_50k)\n",
    "# Breaking Each Condition into its components for easy readability\n",
    "first_super_condition=( bar_freq_condition & passangar_no_kid_condition & marital_status_notwd_condition)\n",
    "second_super_condition=(bar_freq_condition & age_30below_condition)\n",
    "third_super_condition=(cheap_restaurant_condition & less_than_50k_income_condition)\n",
    "data_cleansed_composite_filter=data_cleansed_bar_only[(first_super_condition | second_super_condition | third_super_condition)]\n",
    "#print('The ratio of acceptance with just the first condition is {}'.format(determineAcceptanceRatio(first_super_condition))\n",
    "print(\"The ratio of acceptance with all Conditions together {}\".format(determineAcceptanceRatio(data_cleansed_composite_filter)))\n",
    "print(\"The ratio of acceptance with only first condition satisfied {}\".format(determineAcceptanceRatio(data_cleansed_bar_only[first_super_condition])))\n",
    "print(\"The ratio of acceptance with only second condition satisfied {}\".format(determineAcceptanceRatio(data_cleansed_bar_only[second_super_condition])))\n",
    "print(\"The ratio of acceptance with only third condition satisfied {}\".format(determineAcceptanceRatio(data_cleansed_bar_only[third_super_condition])))\n",
    "\n"
   ]
  },
  {
   "cell_type": "markdown",
   "metadata": {},
   "source": [
    "The 3 conditions in isolation shows that \n",
    "1. Drivers who did not drive kids around , were not widowed and visited bar more than once in a month had 71% plus acceptance rates.\n",
    "2. Drivers who frequent bars more than once in a month and are under the age of 30 have 72% acceptance rates\n",
    "3. Drivers who went to cheap restaurants more than 4 times a month and whose income level was below 50K had only 45% acceptance rates\n",
    "4. ALl this conditions joined by an OR was 58% acceptance rates\n",
    "\n",
    " Younger drivers( below 30) who frequent bars more than once a month and do not drive kids have higher acceptance rates of bar coupons. People who visit cheap restaurants more than 4 times a month and who earn south of 50K did not show the same acceptance rates as the other cohorts\n",
    "\n",
    "\n"
   ]
  },
  {
   "cell_type": "markdown",
   "metadata": {
    "id": "v3fL3QkO_qRK"
   },
   "source": [
    "7.  Based on these observations, what do you hypothesize about drivers who accepted the bar coupons?"
   ]
  },
  {
   "cell_type": "markdown",
   "metadata": {
    "id": "Y48naDFh_qRL"
   },
   "source": [
    "Drivers age, frequency of visits to the bar, the fact whether they were driving a passanger who was a kid , income level has a strong bearing on the fact if the \n",
    "given coupon would be accepted "
   ]
  },
  {
   "cell_type": "markdown",
   "metadata": {
    "id": "r4Hu1zOb_qRL"
   },
   "source": [
    "### Independent Investigation\n",
    "\n",
    "Using the bar coupon example as motivation, you are to explore one of the other coupon groups and try to determine the characteristics of passengers who accept the coupons.  "
   ]
  },
  {
   "cell_type": "code",
   "execution_count": null,
   "metadata": {},
   "outputs": [],
   "source": []
  },
  {
   "cell_type": "code",
   "execution_count": null,
   "metadata": {
    "id": "0c71cQhu_qRL"
   },
   "outputs": [],
   "source": []
  },
  {
   "cell_type": "code",
   "execution_count": null,
   "metadata": {
    "id": "QEsBkvIN_qRL"
   },
   "outputs": [],
   "source": []
  },
  {
   "cell_type": "code",
   "execution_count": null,
   "metadata": {
    "id": "fTC2WGE3_qRL"
   },
   "outputs": [],
   "source": []
  },
  {
   "cell_type": "code",
   "execution_count": null,
   "metadata": {
    "id": "RrqUWn7d_qRL"
   },
   "outputs": [],
   "source": []
  },
  {
   "cell_type": "code",
   "execution_count": null,
   "metadata": {
    "id": "_oykf8YP_qRL"
   },
   "outputs": [],
   "source": []
  }
 ],
 "metadata": {
  "colab": {
   "provenance": []
  },
  "kernelspec": {
   "display_name": "Python 3 (ipykernel)",
   "language": "python",
   "name": "python3"
  },
  "language_info": {
   "codemirror_mode": {
    "name": "ipython",
    "version": 3
   },
   "file_extension": ".py",
   "mimetype": "text/x-python",
   "name": "python",
   "nbconvert_exporter": "python",
   "pygments_lexer": "ipython3",
   "version": "3.12.5"
  }
 },
 "nbformat": 4,
 "nbformat_minor": 4
}
